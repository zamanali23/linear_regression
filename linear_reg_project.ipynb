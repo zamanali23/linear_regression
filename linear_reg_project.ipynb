{
  "nbformat": 4,
  "nbformat_minor": 0,
  "metadata": {
    "colab": {
      "name": "linear_reg_project.ipynb",
      "provenance": []
    },
    "kernelspec": {
      "name": "python3",
      "display_name": "Python 3"
    }
  },
  "cells": [
    {
      "cell_type": "code",
      "metadata": {
        "id": "XMc3oSTFaZh9"
      },
      "source": [
        "import pandas as pd\n",
        "import numpy as np\n",
        "import seaborn as sns\n",
        "import matplotlib.pyplot as plt\n",
        "import warnings\n",
        "warnings.filterwarnings(\"ignore\")\n",
        "%matplotlib inline"
      ],
      "execution_count": null,
      "outputs": []
    },
    {
      "cell_type": "code",
      "metadata": {
        "id": "EtLCvmWq3yXr"
      },
      "source": [
        "df=pd.read_csv('/content/SeoulBikeData.csv')"
      ],
      "execution_count": null,
      "outputs": []
    },
    {
      "cell_type": "code",
      "metadata": {
        "id": "zrMnKBdp3wvM"
      },
      "source": [
        "df.drop(['Date'],axis=1,inplace=True)"
      ],
      "execution_count": null,
      "outputs": []
    },
    {
      "cell_type": "code",
      "metadata": {
        "id": "5y3OkSCobJ3w"
      },
      "source": [
        "df.head()"
      ],
      "execution_count": null,
      "outputs": []
    },
    {
      "cell_type": "code",
      "metadata": {
        "id": "U3b98n1Sb54H"
      },
      "source": [
        "df.describe()"
      ],
      "execution_count": null,
      "outputs": []
    },
    {
      "cell_type": "code",
      "metadata": {
        "id": "l5CM2LrWbNZO"
      },
      "source": [
        "df.tail()"
      ],
      "execution_count": null,
      "outputs": []
    },
    {
      "cell_type": "code",
      "metadata": {
        "id": "UaIUTioXbRY-"
      },
      "source": [
        "df.info()"
      ],
      "execution_count": null,
      "outputs": []
    },
    {
      "cell_type": "code",
      "metadata": {
        "id": "MdJBGaS3j1Fr"
      },
      "source": [
        "print(df['Rented Bike Count'].describe())\n",
        "plt.figure(figsize=(9, 8))\n",
        "sns.distplot(df['Rented Bike Count'], color='g', bins=100, hist_kws={'alpha': 0.4});"
      ],
      "execution_count": null,
      "outputs": []
    },
    {
      "cell_type": "code",
      "metadata": {
        "id": "2j3K60dmk671"
      },
      "source": [
        "list(set(df.dtypes.tolist()))"
      ],
      "execution_count": null,
      "outputs": []
    },
    {
      "cell_type": "code",
      "metadata": {
        "id": "iZO2aGwBk9Fd"
      },
      "source": [
        "df_num = df.select_dtypes(include = ['float64', 'int64'])\n",
        "df_num.head()"
      ],
      "execution_count": null,
      "outputs": []
    },
    {
      "cell_type": "code",
      "metadata": {
        "id": "gf3Ppdq5lCpr"
      },
      "source": [
        "df_num.hist(figsize=(16, 20), bins=50, xlabelsize=8, ylabelsize=8); # ; avoid having the matplotlib verbose informations"
      ],
      "execution_count": null,
      "outputs": []
    },
    {
      "cell_type": "markdown",
      "metadata": {
        "id": "Ow9kkSvlp8ML"
      },
      "source": [
        "# **What are the factors that influence the number of bikes rented?**"
      ]
    },
    {
      "cell_type": "markdown",
      "metadata": {
        "id": "oJ_v4ya9bthn"
      },
      "source": [
        "\n",
        "# **Correlation**"
      ]
    },
    {
      "cell_type": "code",
      "metadata": {
        "id": "tcqAbL82g5X1"
      },
      "source": [
        "df_num.cov()\n",
        "## Covariance - covariance is when two items vary together.\n",
        "## Covariance eg. -  when s&p increases, stock price will increase or vice versa"
      ],
      "execution_count": null,
      "outputs": []
    },
    {
      "cell_type": "code",
      "metadata": {
        "id": "aHKRIRXoddGp"
      },
      "source": [
        "## Correlation - Correlation is when the change in one item may result in the change in another item.\n",
        "## correlation eg. - when speed increased milage will decrease\n",
        "df_num_corr = df_num.corr()['Rented Bike Count'][1:]\n",
        "golden_features_list = df_num_corr[abs(df_num_corr) > 0.5].sort_values(ascending=False)\n",
        "print(\"There is {} strongly correlated values with number of bikes rented are :\\n{}\".format(len(golden_features_list), golden_features_list))"
      ],
      "execution_count": null,
      "outputs": []
    },
    {
      "cell_type": "code",
      "metadata": {
        "id": "rBJGlMt6lXa9"
      },
      "source": [
        "df_num_nocorr = df_num.corr()['Rented Bike Count'][1:]\n",
        "golden_nofeatures_list = df_num_nocorr[abs(df_num_nocorr) < 0.5].sort_values(ascending=False)\n",
        "print(\"There is {} not strongly correlated values with number of bikes rented are :\\n{}\".format(len(golden_nofeatures_list), golden_nofeatures_list))"
      ],
      "execution_count": null,
      "outputs": []
    },
    {
      "cell_type": "code",
      "metadata": {
        "id": "uWHEPbgelpUz"
      },
      "source": [
        "for i in range(1, len(df_num.columns), 3):\n",
        "    sns.pairplot(data=df_num,\n",
        "                x_vars=df_num.columns[i:i+3],\n",
        "                y_vars=['Rented Bike Count'])"
      ],
      "execution_count": null,
      "outputs": []
    },
    {
      "cell_type": "markdown",
      "metadata": {
        "id": "MlXwkrRTh-aG"
      },
      "source": [
        "Btw, correlation by itself does not always explain the relationship between data so ploting them could even lead us to new insights and in the same manner, check that our correlated values have a linear relationship to the rented bike count.\n",
        "\n",
        "For example, relationships such as curvilinear relationship cannot be guessed just by looking at the correlation value so lets take the features we excluded from our correlation table and plot them to see if they show some kind of pattern."
      ]
    },
    {
      "cell_type": "markdown",
      "metadata": {
        "id": "XwIHA5jZqINL"
      },
      "source": [
        "# **Explore the data for outliers and missing values.**"
      ]
    },
    {
      "cell_type": "code",
      "metadata": {
        "id": "uiQK1I2sqOVp"
      },
      "source": [
        "miss_val = df.isna().sum()\n",
        "miss_val"
      ],
      "execution_count": null,
      "outputs": []
    },
    {
      "cell_type": "code",
      "metadata": {
        "id": "zpIGX8siNERd"
      },
      "source": [
        "import operator\n",
        "\n",
        "individual_features_df = []\n",
        "for i in range(1,len(df_num.columns)): \n",
        "    tmpDf = df_num[[df_num.columns[i], 'Rented Bike Count']]\n",
        "    tmpDf = tmpDf[tmpDf[df_num.columns[i]] != 0]\n",
        "    individual_features_df.append(tmpDf)\n",
        "\n",
        "all_correlations = {feature.columns[0]: feature.corr()['Rented Bike Count'][0] for feature in individual_features_df}\n",
        "all_correlations = sorted(all_correlations.items(), key=operator.itemgetter(1))\n",
        "for (key, value) in all_correlations:\n",
        "    print(\"{:>15}: {:>15}\".format(key, value))"
      ],
      "execution_count": null,
      "outputs": []
    },
    {
      "cell_type": "code",
      "metadata": {
        "id": "Qzo33fAPPxj7"
      },
      "source": [
        "golden_features_list = [key for key, value in all_correlations if abs(value) >= 0.5]\n",
        "print(\"There is {} strongly correlated values with Rented Bike Count:\\n{}\".format(len(golden_features_list), golden_features_list))"
      ],
      "execution_count": null,
      "outputs": []
    },
    {
      "cell_type": "markdown",
      "metadata": {
        "id": "VgVbPT9QbfI3"
      },
      "source": [
        "\n",
        "# **Feature to feature relationship**"
      ]
    },
    {
      "cell_type": "code",
      "metadata": {
        "id": "8AuQpH4DQj00"
      },
      "source": [
        "corr = df_num.drop('Rented Bike Count', axis=1).corr() # We already examined SalePrice correlations\n",
        "plt.figure(figsize=(12, 10))\n",
        "\n",
        "sns.heatmap(corr[(corr >= 0.5) | (corr <= -0.4)], \n",
        "            cmap='viridis', vmax=1.0, vmin=-1.0, linewidths=0.1,\n",
        "            annot=True, annot_kws={\"size\": 8}, square=True);"
      ],
      "execution_count": null,
      "outputs": []
    },
    {
      "cell_type": "markdown",
      "metadata": {
        "id": "BoBIxJaESQKF"
      },
      "source": [
        "\n",
        "A lot of features seems to be correlated between each other but some of them such as Dew Point temperature(C)/Temperature(C) may just indicate rented bike count inflation.IN a good weather (not cold) people will rent more bikes.\n",
        "\n",
        "Now for the ones which are less obvious we can see that:\n",
        "\n",
        "There is a strong negative correlation between Humidity(%),Visibilty(10m),Solar Radiation(MJ/M2).These factors are interesting and may indicate that people gives an importance of not renting a bike in extreme weather condition to avoid accedents."
      ]
    },
    {
      "cell_type": "code",
      "metadata": {
        "id": "lnZZKSKFUreq"
      },
      "source": [
        "quantitative_features_list = ['Rented Bike Count','Hour', 'Temperature(C)', 'Humidity(%)', 'Wind speed (m/s)', 'Visibility (10m)', 'Dew point temperature(C)',\n",
        "    'Solar Radiation (MJ/m2)', 'Rainfall(mm)', 'Snowfall (cm)']\n",
        "df_quantitative_values = df[quantitative_features_list]\n",
        "df_quantitative_values.head()"
      ],
      "execution_count": null,
      "outputs": []
    },
    {
      "cell_type": "code",
      "metadata": {
        "id": "Po2WJiIgWLFc"
      },
      "source": [
        "features_to_analyse = [x for x in quantitative_features_list if x in golden_features_list]\n",
        "features_to_analyse.append('Rented Bike Count')\n",
        "features_to_analyse"
      ],
      "execution_count": null,
      "outputs": []
    },
    {
      "cell_type": "markdown",
      "metadata": {
        "id": "f6qNX0nZbZp4"
      },
      "source": [
        "\n",
        "# **Q -> Q (Quantitative to Quantitative relationship)**"
      ]
    },
    {
      "cell_type": "code",
      "metadata": {
        "id": "xtBYVWaYa-np"
      },
      "source": [
        "\n",
        "fig, ax = plt.subplots(round(len(features_to_analyse) / 3),figsize = (18, 12))\n",
        "\n",
        "for i, ax in enumerate(fig.axes):\n",
        "    if i < len(features_to_analyse) - 1:\n",
        "        sns.regplot(x=features_to_analyse[i],y='Rented Bike Count', data=df[features_to_analyse], ax=ax)"
      ],
      "execution_count": null,
      "outputs": []
    },
    {
      "cell_type": "markdown",
      "metadata": {
        "id": "7AM7GXpkb7Zg"
      },
      "source": [
        "\n",
        "# **C -> Q (Categorical to Quantitative relationship)**"
      ]
    },
    {
      "cell_type": "code",
      "metadata": {
        "id": "CaXCdv2Hb_eX"
      },
      "source": [
        "# quantitative_features_list[1:] as the Second column is Rented Car Price and we want to keep it\n",
        "categorical_features = [a for a in quantitative_features_list[1:] + df.columns.tolist() if (a not in quantitative_features_list[1:]) or (a not in df.columns.tolist())]\n",
        "df_categ = df[categorical_features]\n",
        "df_categ.head()"
      ],
      "execution_count": null,
      "outputs": []
    },
    {
      "cell_type": "code",
      "metadata": {
        "id": "7K7Zb9okcl64"
      },
      "source": [
        "df_not_num = df_categ.select_dtypes(include = ['O'])\n",
        "print('There is {} non numerical features including:\\n{}'.format(len(df_not_num.columns), df_not_num.columns.tolist()))"
      ],
      "execution_count": null,
      "outputs": []
    },
    {
      "cell_type": "code",
      "metadata": {
        "id": "x8D_JUcgcylU"
      },
      "source": [
        "plt.figure(figsize = (10, 6))\n",
        "ax = sns.boxplot(x='Holiday', y='Rented Bike Count', data=df_categ)\n",
        "plt.setp(ax.artists, alpha=.5, linewidth=2, edgecolor=\"k\")\n",
        "plt.xticks(rotation=45)"
      ],
      "execution_count": null,
      "outputs": []
    },
    {
      "cell_type": "code",
      "metadata": {
        "id": "Y26wSJ5fdYBz"
      },
      "source": [
        "plt.figure(figsize = (12, 6))\n",
        "ax = sns.boxplot(x='Seasons', y='Rented Bike Count', data=df_categ)\n",
        "plt.setp(ax.artists, alpha=.5, linewidth=2, edgecolor=\"k\")\n",
        "plt.xticks(rotation=45)"
      ],
      "execution_count": null,
      "outputs": []
    },
    {
      "cell_type": "code",
      "metadata": {
        "id": "7a77YHl9envB"
      },
      "source": [
        "fig, axes = plt.subplots(round(len(df_not_num.columns)), 1, figsize=(12, 10))\n",
        "\n",
        "for i, ax in enumerate(fig.axes):\n",
        "    if i < len(df_not_num.columns):\n",
        "        ax.set_xticklabels(ax.xaxis.get_majorticklabels(), rotation=45)\n",
        "        sns.countplot(x=df_not_num.columns[i], alpha=0.7, data=df_not_num, ax=ax)\n",
        "\n",
        "fig.tight_layout()"
      ],
      "execution_count": null,
      "outputs": []
    },
    {
      "cell_type": "markdown",
      "metadata": {
        "id": "J1RDDuM8uDYj"
      },
      "source": [
        "# **Please build a linear regression model to predict rented bike count by choosing appropriate independentvariables.**"
      ]
    },
    {
      "cell_type": "markdown",
      "metadata": {
        "id": "aH30mUNlDQH4"
      },
      "source": [
        "What is Train/Test\n",
        "Train/Test is a method to measure the accuracy of your model.\n",
        "\n",
        "It is called Train/Test because you split the the data set into two sets: a training set and a testing set.\n",
        "\n",
        "1.80% for training, and 20% for testing.\n",
        "\n",
        "2.You train the model using the training set.\n",
        "\n",
        "3.You test the model using the testing set.\n",
        "\n",
        "4.Train the model means create the model.\n",
        "\n",
        "5.Test the model means test the accuracy of the model.\n",
        "\n",
        "The simplest form of the regression equation with one dependent and one independent variable is defined by the formula y = c + b*x, where y = estimated dependent variable score, c = constant, b = regression coefficient, and x = score on the independent variable."
      ]
    },
    {
      "cell_type": "code",
      "metadata": {
        "id": "sIhD6EbyteE6"
      },
      "source": [
        "from sklearn.model_selection import train_test_split\n",
        "from sklearn.linear_model import LinearRegression\n",
        "from sklearn.metrics import mean_squared_error,mean_absolute_error, r2_score\n",
        "from sklearn.linear_model import Ridge\n",
        "from sklearn.linear_model import Lasso \n",
        "\n",
        "train, val = train_test_split(df_num, test_size=0.25)"
      ],
      "execution_count": null,
      "outputs": []
    },
    {
      "cell_type": "code",
      "metadata": {
        "id": "rertHxFX28zn"
      },
      "source": [
        "print('Dimension of df_num_x dataframe:',df_num_x.shape)\n",
        "print('Dimension of df_num_y dataframe:',df_num_y.shape)\n",
        "print('Dimension of test_x dataframe:',test_x.shape)\n",
        "print('Dimension of test_y dataframe:',_y.shape)"
      ],
      "execution_count": null,
      "outputs": []
    },
    {
      "cell_type": "markdown",
      "metadata": {
        "id": "kTmR_uCqzxD4"
      },
      "source": [
        "\n",
        "# **Ridge(L2) Regression**"
      ]
    },
    {
      "cell_type": "code",
      "metadata": {
        "id": "8nT0H-vRzWFZ"
      },
      "source": [
        "ridge = Ridge()\n",
        "ridge"
      ],
      "execution_count": null,
      "outputs": []
    },
    {
      "cell_type": "code",
      "metadata": {
        "id": "Ae0DhSBYzYyo"
      },
      "source": [
        "ridge.fit(df_num_x,df_num_y)\n",
        "ridge_score = ridge.score(test_x,test_y)\n",
        "coeff_used = np.sum(ridge.coef_ != 0)\n",
        "ridge.coef_"
      ],
      "execution_count": null,
      "outputs": []
    },
    {
      "cell_type": "code",
      "metadata": {
        "id": "AhBro06MzsYh"
      },
      "source": [
        "print(\"training score\",ridge_score)\n",
        "print(\"number of feature used:\",coeff_used)"
      ],
      "execution_count": null,
      "outputs": []
    },
    {
      "cell_type": "markdown",
      "metadata": {
        "id": "y-bCw0oMz3ZT"
      },
      "source": [
        "\n",
        "# **Lasso(L1) Regression**"
      ]
    },
    {
      "cell_type": "code",
      "metadata": {
        "id": "BwaMCndIz5vr"
      },
      "source": [
        "lasso = Lasso()\n",
        "lasso"
      ],
      "execution_count": null,
      "outputs": []
    },
    {
      "cell_type": "code",
      "metadata": {
        "id": "bg4JJUHx0m5z"
      },
      "source": [
        "lasso.fit(df_num_x,df_num_y)\n",
        "lasso_score = lasso.score(test_x,test_y)\n",
        "coeff_used = np.sum(lasso.coef_ != 0)\n",
        "lasso.coef_"
      ],
      "execution_count": null,
      "outputs": []
    },
    {
      "cell_type": "code",
      "metadata": {
        "id": "bqEuaBYE0Aad"
      },
      "source": [
        "print(\"training score\",lasso_score)\n",
        "print(\"number of feature used:\",coeff_used)"
      ],
      "execution_count": null,
      "outputs": []
    },
    {
      "cell_type": "markdown",
      "metadata": {
        "id": "EHV48pLbcbRS"
      },
      "source": [
        "# **conclusion**\n",
        "linear regression model basically finds the best value for the intercept and slope, which results in a line that best fits the data.You can see that the value of root mean squared error is 0.4364, which is less than 10% of the mean value of the temperature(C)i.e. 12.882(C). This means that our algorithm did a decent job."
      ]
    }
  ]
}